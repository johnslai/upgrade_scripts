{
 "metadata": {
  "name": "",
  "signature": "sha256:30052559a43433ea84949fad6012ad2c91f6fbb94e67ed2b3bbbf897c0a1f5b2"
 },
 "nbformat": 3,
 "nbformat_minor": 0,
 "worksheets": [
  {
   "cells": [
    {
     "cell_type": "heading",
     "level": 1,
     "metadata": {},
     "source": [
      "upgrade scripts"
     ]
    },
    {
     "cell_type": "markdown",
     "metadata": {},
     "source": [
      "1. first step\n",
      "1. second step"
     ]
    },
    {
     "cell_type": "code",
     "collapsed": false,
     "input": [
      "run conf_to_json aq14190011/gdaq.conf"
     ],
     "language": "python",
     "metadata": {},
     "outputs": [
      {
       "output_type": "stream",
       "stream": "stdout",
       "text": [
        "aq14190011/gdaq.conf\n",
        "> /home/jlai2/vt/upgrade_scripts/conf_to_json/conf_to_json.py(101)main()\n",
        "-> write_json(\"gdaq.json\", new_conf)\n"
       ]
      },
      {
       "name": "stdout",
       "output_type": "stream",
       "stream": "stdout",
       "text": [
        "(Pdb) \n"
       ]
      },
      {
       "name": "stdout",
       "output_type": "stream",
       "stream": "stdout",
       "text": [
        "(Pdb) c\n"
       ]
      }
     ],
     "prompt_number": 17
    },
    {
     "cell_type": "code",
     "collapsed": false,
     "input": [
      "old_channelx.get('voltage_id', '1')"
     ],
     "language": "python",
     "metadata": {},
     "outputs": []
    }
   ],
   "metadata": {}
  }
 ]
}